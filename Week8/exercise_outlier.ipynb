{
 "cells": [
  {
   "cell_type": "code",
   "execution_count": 1,
   "metadata": {},
   "outputs": [
    {
     "name": "stdout",
     "output_type": "stream",
     "text": [
      "<class 'pandas.core.frame.DataFrame'>\n",
      "RangeIndex: 13320 entries, 0 to 13319\n",
      "Data columns (total 9 columns):\n",
      " #   Column         Non-Null Count  Dtype  \n",
      "---  ------         --------------  -----  \n",
      " 0   area_type      13320 non-null  object \n",
      " 1   availability   13320 non-null  object \n",
      " 2   size           13304 non-null  object \n",
      " 3   society        7818 non-null   object \n",
      " 4   total_sqft     13320 non-null  object \n",
      " 5   bath           13247 non-null  float64\n",
      " 6   balcony        12711 non-null  float64\n",
      " 7   price          13320 non-null  float64\n",
      " 8   site_location  13319 non-null  object \n",
      "dtypes: float64(3), object(6)\n",
      "memory usage: 936.7+ KB\n",
      "None\n",
      "              area_type   availability       size  society total_sqft  bath  \\\n",
      "0  Super built-up  Area         19-Dec      2 BHK  Coomee        1056   2.0   \n",
      "1            Plot  Area  Ready To Move  4 Bedroom  Theanmp       2600   5.0   \n",
      "2        Built-up  Area  Ready To Move      3 BHK      NaN       1440   2.0   \n",
      "3  Super built-up  Area  Ready To Move      3 BHK  Soiewre       1521   3.0   \n",
      "4  Super built-up  Area  Ready To Move      2 BHK      NaN       1200   2.0   \n",
      "\n",
      "   balcony   price    site_location  \n",
      "0      1.0   39.07      Alandi Road  \n",
      "1      3.0  120.00  Ambegaon Budruk  \n",
      "2      3.0   62.00       Anandnagar  \n",
      "3      1.0   95.00            Aundh  \n",
      "4      1.0   51.00       Aundh Road  \n"
     ]
    }
   ],
   "source": [
    "import pandas as pd\n",
    "import numpy as np\n",
    "import matplotlib.pyplot as plt\n",
    "import seaborn as sns\n",
    "\n",
    "# Load the dataset\n",
    "df = pd.read_csv(\"House_Data.csv\")\n",
    "\n",
    "# Display basic dataset information\n",
    "print(df.info())  # Check data types and missing values\n",
    "print(df.head())  # Preview the first few rows"
   ]
  },
  {
   "cell_type": "code",
   "execution_count": 2,
   "metadata": {},
   "outputs": [
    {
     "name": "stdout",
     "output_type": "stream",
     "text": [
      "Missing values count per column:\n",
      "area_type           0\n",
      "availability        0\n",
      "size               16\n",
      "society          5502\n",
      "total_sqft          0\n",
      "bath               73\n",
      "balcony           609\n",
      "price               0\n",
      "site_location       1\n",
      "dtype: int64\n"
     ]
    }
   ],
   "source": [
    "# Check for missing values in the dataset\n",
    "print(\"Missing values count per column:\")\n",
    "print(df.isnull().sum())"
   ]
  },
  {
   "cell_type": "code",
   "execution_count": 10,
   "metadata": {},
   "outputs": [
    {
     "name": "stdout",
     "output_type": "stream",
     "text": [
      "Missing values after imputation:\n",
      "area_type        0\n",
      "availability     0\n",
      "size             0\n",
      "society          0\n",
      "total_sqft       0\n",
      "bath             0\n",
      "balcony          0\n",
      "price            0\n",
      "site_location    0\n",
      "price_log        0\n",
      "dtype: int64\n"
     ]
    }
   ],
   "source": [
    "# Fill missing values for all columns\n",
    "df.fillna({\n",
    "    'bath': df['bath'].median(),\n",
    "    'balcony': df['balcony'].median(),\n",
    "    'society': 'Unknown',\n",
    "    'area_type': df['area_type'].mode()[0],\n",
    "    'size': df['size'].mode()[0],  # Fill missing 'size' with most frequent value\n",
    "    'site_location': 'Unknown'  # Fill missing 'site_location' with 'Unknown'\n",
    "}, inplace=True)\n",
    "\n",
    "# Verify missing values are handled\n",
    "print(\"Missing values after imputation:\")\n",
    "print(df.isnull().sum())"
   ]
  },
  {
   "cell_type": "code",
   "execution_count": 11,
   "metadata": {},
   "outputs": [
    {
     "data": {
      "image/png": "[encoded data removed]",
      "text/plain": [
       "<Figure size 1000x500 with 1 Axes>"
      ]
     },
     "metadata": {},
     "output_type": "display_data"
    }
   ],
   "source": [
    "# Apply log transformation to 'price' to reduce scale difference\n",
    "df['price_log'] = np.log1p(df['price'])  # log1p avoids log(0) issues\n",
    "\n",
    "# Redraw the boxplot\n",
    "plt.figure(figsize=(10, 5))\n",
    "sns.boxplot(data=df[['bath', 'balcony', 'price_log']])\n",
    "plt.xticks(rotation=45)\n",
    "plt.show()"
   ]
  },
  {
   "cell_type": "code",
   "execution_count": 12,
   "metadata": {},
   "outputs": [
    {
     "name": "stdout",
     "output_type": "stream",
     "text": [
      "Number of outliers detected:\n",
      "bath       1039\n",
      "balcony       0\n",
      "price      1276\n",
      "dtype: int64\n"
     ]
    }
   ],
   "source": [
    "# Compute the Interquartile Range (IQR)\n",
    "Q1 = df[['bath', 'balcony', 'price']].quantile(0.25)\n",
    "Q3 = df[['bath', 'balcony', 'price']].quantile(0.75)\n",
    "IQR = Q3 - Q1\n",
    "\n",
    "# Define lower and upper bounds for outliers\n",
    "lower_bound = Q1 - 1.5 * IQR\n",
    "upper_bound = Q3 + 1.5 * IQR\n",
    "\n",
    "# Identify outliers\n",
    "outliers = (df[['bath', 'balcony', 'price']] < lower_bound) | (df[['bath', 'balcony', 'price']] > upper_bound)\n",
    "\n",
    "# Display number of outliers per column\n",
    "print(\"Number of outliers detected:\")\n",
    "print(outliers.sum())"
   ]
  },
  {
   "cell_type": "code",
   "execution_count": 15,
   "metadata": {},
   "outputs": [
    {
     "name": "stdout",
     "output_type": "stream",
     "text": [
      "Rows before cleaning: 13320\n",
      "Rows after cleaning: 11474\n"
     ]
    }
   ],
   "source": [
    "# Remove outliers from the dataset\n",
    "df_cleaned = df[~outliers.any(axis=1)]\n",
    "\n",
    "# Display the number of rows before and after cleaning\n",
    "print(\"Rows before cleaning:\", df.shape[0])\n",
    "print(\"Rows after cleaning:\", df_cleaned.shape[0])"
   ]
  },
  {
   "cell_type": "code",
   "execution_count": 16,
   "metadata": {},
   "outputs": [
    {
     "name": "stdout",
     "output_type": "stream",
     "text": [
      "Cleaned dataset saved as 'House_Data_Cleaned.csv'\n"
     ]
    }
   ],
   "source": [
    "# Save the cleaned dataset to a new CSV file\n",
    "df_cleaned.to_csv(\"House_Data_Cleaned.csv\", index=False)\n",
    "\n",
    "print(\"Cleaned dataset saved as 'House_Data_Cleaned.csv'\")"
   ]
  }
 ],
 "metadata": {
  "kernelspec": {
   "display_name": "Python 3",
   "language": "python",
   "name": "python3"
  },
  "language_info": {
   "codemirror_mode": {
    "name": "ipython",
    "version": 3
   },
   "file_extension": ".py",
   "mimetype": "text/x-python",
   "name": "python",
   "nbconvert_exporter": "python",
   "pygments_lexer": "ipython3",
   "version": "3.12.8"
  }
 },
 "nbformat": 4,
 "nbformat_minor": 2
}
